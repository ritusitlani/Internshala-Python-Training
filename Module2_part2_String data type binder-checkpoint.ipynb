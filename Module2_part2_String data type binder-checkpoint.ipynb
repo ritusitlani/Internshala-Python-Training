{
 "cells": [
  {
   "cell_type": "markdown",
   "metadata": {},
   "source": [
    "STRING DATA TYPE"
   ]
  },
  {
   "cell_type": "code",
   "execution_count": 3,
   "metadata": {},
   "outputs": [
    {
     "name": "stdout",
     "output_type": "stream",
     "text": [
      "Coding is \t fun\n"
     ]
    }
   ],
   "source": [
    "n= \"Coding is \\t fun\"\n",
    "print(n)"
   ]
  },
  {
   "cell_type": "code",
   "execution_count": 4,
   "metadata": {},
   "outputs": [
    {
     "name": "stdout",
     "output_type": "stream",
     "text": [
      "Coding is \n",
      " fun\n"
     ]
    }
   ],
   "source": [
    "n= \"Coding is \\n fun\"\n",
    "print(n)"
   ]
  },
  {
   "cell_type": "code",
   "execution_count": 5,
   "metadata": {},
   "outputs": [
    {
     "name": "stdout",
     "output_type": "stream",
     "text": [
      "Coding is \\ fun\n"
     ]
    }
   ],
   "source": [
    "n= \"Coding is \\\\ fun\"\n",
    "print(n)"
   ]
  },
  {
   "cell_type": "code",
   "execution_count": 8,
   "metadata": {},
   "outputs": [
    {
     "name": "stdout",
     "output_type": "stream",
     "text": [
      "Coding is '' fun\n"
     ]
    }
   ],
   "source": [
    "n= \"Coding is \\'' fun\"  #prints single quote\n",
    "print(n)"
   ]
  },
  {
   "cell_type": "code",
   "execution_count": 9,
   "metadata": {},
   "outputs": [
    {
     "name": "stdout",
     "output_type": "stream",
     "text": [
      "Coding is \" fun\n"
     ]
    }
   ],
   "source": [
    "n= \"Coding is \\\" fun\"\n",
    "print(n)"
   ]
  },
  {
   "cell_type": "code",
   "execution_count": 10,
   "metadata": {},
   "outputs": [
    {
     "name": "stdout",
     "output_type": "stream",
     "text": [
      "Coding is \u0007 fun\n"
     ]
    }
   ],
   "source": [
    "n= \"Coding is \\a fun\"\n",
    "print(n)    #makes a sound"
   ]
  },
  {
   "cell_type": "code",
   "execution_count": 11,
   "metadata": {},
   "outputs": [
    {
     "name": "stdout",
     "output_type": "stream",
     "text": [
      "first secondsecondsecondsecondsecond\n"
     ]
    }
   ],
   "source": [
    "a=\"first\"\n",
    "b='second'\n",
    "print (a ,b *5) * repeates"
   ]
  },
  {
   "cell_type": "code",
   "execution_count": 13,
   "metadata": {},
   "outputs": [
    {
     "name": "stdout",
     "output_type": "stream",
     "text": [
      "R\n"
     ]
    }
   ],
   "source": [
    "a=\"FIRST\"      \n",
    "print(a[2])      #slice index"
   ]
  },
  {
   "cell_type": "code",
   "execution_count": 18,
   "metadata": {},
   "outputs": [
    {
     "name": "stdout",
     "output_type": "stream",
     "text": [
      "CON\n",
      "SE\n",
      "SECOND\n"
     ]
    }
   ],
   "source": [
    "a=\"SECOND\"\n",
    "print(a[2:5])  #RANGE SLICE 0 n-1\n",
    "print(a[:2])\n",
    "print(a[0:])"
   ]
  },
  {
   "cell_type": "code",
   "execution_count": 25,
   "metadata": {},
   "outputs": [
    {
     "name": "stdout",
     "output_type": "stream",
     "text": [
      "False\n",
      "True\n",
      "True\n",
      "False\n"
     ]
    }
   ],
   "source": [
    "a=\"HARRY IS COOL BOY\"\n",
    "print('r' in a)  #case sensitive\n",
    "print('R' in a)\n",
    "print('IS' in a)\n",
    "print('R' not in a)\n"
   ]
  },
  {
   "cell_type": "code",
   "execution_count": 28,
   "metadata": {},
   "outputs": [
    {
     "name": "stdout",
     "output_type": "stream",
     "text": [
      "How\n"
     ]
    }
   ],
   "source": [
    "s=\"Hello.How are you?\"\n",
    "print(s[6:9])"
   ]
  },
  {
   "cell_type": "markdown",
   "metadata": {},
   "source": [
    "FORMATTING STRINGS # SECOND WAY\n",
    "BY HAVING placeholders in string and filling them to values assigned to variables"
   ]
  },
  {
   "cell_type": "code",
   "execution_count": 34,
   "metadata": {},
   "outputs": [
    {
     "name": "stdout",
     "output_type": "stream",
     "text": [
      "I used to love basketball. It used to be my faviourite Sport\n"
     ]
    }
   ],
   "source": [
    "x='basketball'\n",
    "\n",
    "y='Sport'\n",
    "print(\"I used to love %s. It used to be my faviourite %s\" %(x,y))       #values are specified as tuple"
   ]
  },
  {
   "cell_type": "markdown",
   "metadata": {},
   "source": [
    "METHODS FOR STRING PROCESSING\n"
   ]
  },
  {
   "cell_type": "code",
   "execution_count": 35,
   "metadata": {},
   "outputs": [
    {
     "data": {
      "text/plain": [
       "'Internshala'"
      ]
     },
     "execution_count": 35,
     "metadata": {},
     "output_type": "execute_result"
    }
   ],
   "source": [
    "x='internshala'\n",
    "x.capitalize()  #first letter capital"
   ]
  },
  {
   "cell_type": "code",
   "execution_count": 36,
   "metadata": {},
   "outputs": [
    {
     "data": {
      "text/plain": [
       "'INTERNSHALA'"
      ]
     },
     "execution_count": 36,
     "metadata": {},
     "output_type": "execute_result"
    }
   ],
   "source": [
    "x ='internshala'\n",
    "x.upper()    #converts all lowercase letters to uppercase"
   ]
  },
  {
   "cell_type": "code",
   "execution_count": 38,
   "metadata": {},
   "outputs": [
    {
     "data": {
      "text/plain": [
       "'internshala'"
      ]
     },
     "execution_count": 38,
     "metadata": {},
     "output_type": "execute_result"
    }
   ],
   "source": [
    "x ='INTERNSHALA'\n",
    "x.lower()  #converts all uppercase to lowercase "
   ]
  },
  {
   "cell_type": "code",
   "execution_count": 39,
   "metadata": {},
   "outputs": [
    {
     "data": {
      "text/plain": [
       "'My Name Is Ritu Sitlani'"
      ]
     },
     "execution_count": 39,
     "metadata": {},
     "output_type": "execute_result"
    }
   ],
   "source": [
    "x='my name is ritu sitlani'\n",
    "x.title()    #converts first letter of each word to upper case"
   ]
  },
  {
   "cell_type": "code",
   "execution_count": 44,
   "metadata": {},
   "outputs": [
    {
     "name": "stdout",
     "output_type": "stream",
     "text": [
      "3\n",
      "11\n",
      "-1\n"
     ]
    }
   ],
   "source": [
    "x='my name is ritu sitlani'\n",
    "print(x.find('na'))  #if the substring is present results in index if not returns -1\n",
    "print(x.find('ritu'))\n",
    "print(x.find('yh'))\n"
   ]
  },
  {
   "cell_type": "code",
   "execution_count": 45,
   "metadata": {},
   "outputs": [
    {
     "ename": "ValueError",
     "evalue": "substring not found",
     "output_type": "error",
     "traceback": [
      "\u001b[1;31m---------------------------------------------------------------------------\u001b[0m",
      "\u001b[1;31mValueError\u001b[0m                                Traceback (most recent call last)",
      "\u001b[1;32m<ipython-input-45-2c9ea096a1e2>\u001b[0m in \u001b[0;36m<module>\u001b[1;34m\u001b[0m\n\u001b[0;32m      1\u001b[0m \u001b[0mx\u001b[0m\u001b[1;33m=\u001b[0m\u001b[1;34m'my name is ritu sitlani'\u001b[0m\u001b[1;33m\u001b[0m\u001b[1;33m\u001b[0m\u001b[0m\n\u001b[1;32m----> 2\u001b[1;33m \u001b[0mprint\u001b[0m\u001b[1;33m(\u001b[0m\u001b[0mx\u001b[0m\u001b[1;33m.\u001b[0m\u001b[0mindex\u001b[0m\u001b[1;33m(\u001b[0m\u001b[1;34m'yh'\u001b[0m\u001b[1;33m)\u001b[0m\u001b[1;33m)\u001b[0m\u001b[1;33m\u001b[0m\u001b[1;33m\u001b[0m\u001b[0m\n\u001b[0m",
      "\u001b[1;31mValueError\u001b[0m: substring not found"
     ]
    }
   ],
   "source": [
    "x='my name is ritu sitlani'\n",
    "print(x.index('yh'))   #similar to find func but throws value error if substring not found"
   ]
  },
  {
   "cell_type": "code",
   "execution_count": 46,
   "metadata": {},
   "outputs": [
    {
     "name": "stdout",
     "output_type": "stream",
     "text": [
      "2\n"
     ]
    }
   ],
   "source": [
    "x='my name is ritu sitlani'\n",
    "print(x.count('it'))   #number of occurences of substring"
   ]
  },
  {
   "cell_type": "code",
   "execution_count": 53,
   "metadata": {},
   "outputs": [
    {
     "name": "stdout",
     "output_type": "stream",
     "text": [
      "True\n",
      "False\n",
      "True\n",
      "True\n",
      "True\n"
     ]
    }
   ],
   "source": [
    "x='Internshala'\n",
    "print(x.isalpha())    #return true if elements are alphabets.\n",
    "y='why are' \n",
    "print(y.isalpha())\n",
    "\n",
    "z='24646'\n",
    "print(z.isdigit())  #return if if elements are digits\n",
    "\n",
    "a='abc'\n",
    "print(a.islower())  # lowercase letters\n",
    "\n",
    "b='ABCDYY'\n",
    "print(b.isupper())  #returns true for uppercase"
   ]
  },
  {
   "cell_type": "code",
   "execution_count": null,
   "metadata": {},
   "outputs": [],
   "source": []
  }
 ],
 "metadata": {
  "kernelspec": {
   "display_name": "Python 3",
   "language": "python",
   "name": "python3"
  },
  "language_info": {
   "codemirror_mode": {
    "name": "ipython",
    "version": 3
   },
   "file_extension": ".py",
   "mimetype": "text/x-python",
   "name": "python",
   "nbconvert_exporter": "python",
   "pygments_lexer": "ipython3",
   "version": "3.8.5"
  }
 },
 "nbformat": 4,
 "nbformat_minor": 4
}
