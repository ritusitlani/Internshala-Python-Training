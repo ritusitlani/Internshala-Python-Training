{
 "cells": [
  {
   "cell_type": "code",
   "execution_count": 8,
   "metadata": {},
   "outputs": [
    {
     "name": "stdout",
     "output_type": "stream",
     "text": [
      "6\n",
      "1\n",
      "Green Goblin\n",
      "dict_values(['magneto', 'Joker', 'Doctor Doom', 'Lex Luthor', 'Loki'])\n",
      "None\n"
     ]
    }
   ],
   "source": [
    "villians={1:\"magneto\", 2:\"Joker\", 3:\"Doctor Doom\", 5:\"Lex Luthor\", 9:\"Green Goblin\", 6:\"Loki\"}\n",
    "print(len(villians))    #display length of dictonary\n",
    "print(min(villians))   #Display the key which has the least value.\n",
    "print(villians.pop(9))   #Display the value of the key 9 as well as delete it simultaneously.\n",
    "print(villians.values()) #Display all the values in dictionary.\n",
    "print(villians.clear())  #Delete all the elements in the dictionary while retaining the empty object."
   ]
  },
  {
   "cell_type": "code",
   "execution_count": null,
   "metadata": {},
   "outputs": [],
   "source": []
  }
 ],
 "metadata": {
  "kernelspec": {
   "display_name": "Python 3",
   "language": "python",
   "name": "python3"
  },
  "language_info": {
   "codemirror_mode": {
    "name": "ipython",
    "version": 3
   },
   "file_extension": ".py",
   "mimetype": "text/x-python",
   "name": "python",
   "nbconvert_exporter": "python",
   "pygments_lexer": "ipython3",
   "version": "3.8.5"
  }
 },
 "nbformat": 4,
 "nbformat_minor": 4
}
